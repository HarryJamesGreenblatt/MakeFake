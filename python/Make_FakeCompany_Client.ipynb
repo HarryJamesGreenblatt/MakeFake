{
 "cells": [
  {
   "cell_type": "code",
   "execution_count": 1,
   "metadata": {},
   "outputs": [],
   "source": [
    "from Make_FakeCompany   import FakeCompany"
   ]
  },
  {
   "cell_type": "code",
   "execution_count": 2,
   "metadata": {},
   "outputs": [],
   "source": [
    "fake_company = FakeCompany()"
   ]
  },
  {
   "cell_type": "code",
   "execution_count": 3,
   "metadata": {},
   "outputs": [
    {
     "data": {
      "text/plain": [
       "Name: Lee Ltd\n",
       "Category: Limited Liability Company\n",
       "Domain: Lee-Ltd.org\n",
       "# of Employees: 295\n",
       "# of Customers: 673\n",
       "# of Inventory Items: 456\n",
       "City:  Coffeytown\n",
       "State: AR\n",
       "Zip Code: 72611\n",
       "Departments: [\n",
       "   'Management', \n",
       "   'Accounting', \n",
       "   'Sales', \n",
       "   'Marketing', \n",
       "   'Security', \n",
       "   'IT', \n",
       "]\n",
       "Employee Attributes: [\n",
       "   'Employee ID', \n",
       "   'First Name', \n",
       "   'Last Name', \n",
       "   'Email', \n",
       "   'Username', \n",
       "   'Password', \n",
       "   'Date Of Birth', \n",
       "   'SSN', \n",
       "   'Phone Number', \n",
       "   'Address', \n",
       "   'City', \n",
       "   'State', \n",
       "   'Zip Code', \n",
       "   'Hire Date', \n",
       "   'Salary', \n",
       "   'Department', \n",
       "]\n",
       "Customer Attributes: [\n",
       "   'Customer ID', \n",
       "   'First Name', \n",
       "   'Last Name', \n",
       "   'Email', \n",
       "   'Username', \n",
       "   'Password', \n",
       "   'Phone Number', \n",
       "   'Address', \n",
       "   'City', \n",
       "   'State', \n",
       "   'Zip Code', \n",
       "   'Card Provider', \n",
       "   'Card Number', \n",
       "   'CVV', \n",
       "   'Expiration Date', \n",
       "]\n",
       "Inventory Attributes: [\n",
       "   'Stock ID', \n",
       "    'Product', \n",
       "    'Year', \n",
       "    'Price', \n",
       "    'Stock Quantity', \n",
       "]"
      ]
     },
     "execution_count": 3,
     "metadata": {},
     "output_type": "execute_result"
    }
   ],
   "source": [
    "fake_company"
   ]
  },
  {
   "cell_type": "code",
   "execution_count": null,
   "metadata": {},
   "outputs": [],
   "source": [
    "fake_company.To_Excel(\n",
    "\n",
    "    fake_company.MakeFakeEmployees()[\"As_DataFrame\"].to_csv(),\n",
    "    f'{fake_company.Name} - Employees'\n",
    "\n",
    ")"
   ]
  },
  {
   "cell_type": "code",
   "execution_count": null,
   "metadata": {},
   "outputs": [],
   "source": [
    "fake_company.To_Excel(\n",
    "\n",
    "    fake_company.MakeFakeCustomers()[\"As_DataFrame\"].to_csv(),\n",
    "    f'{fake_company.Name} - Customers'\n",
    "\n",
    ")"
   ]
  },
  {
   "cell_type": "code",
   "execution_count": null,
   "metadata": {},
   "outputs": [],
   "source": [
    "fake_company.To_Excel(\n",
    "\n",
    "    fake_company.MakeFakeInventory()[\"As_DataFrame\"].to_csv(),\n",
    "    f'{fake_company.Name} - Inventory'\n",
    "\n",
    ")"
   ]
  },
  {
   "cell_type": "code",
   "execution_count": null,
   "metadata": {},
   "outputs": [],
   "source": [
    "fake_company.To_Excel(\n",
    "\n",
    "    fake_company.MakeFakeTransactions(\n",
    "        fake_company.MakeFakeInventory()[\"As_DataFrame\"],\n",
    "        fake_company.MakeFakeCustomers()[\"As_DataFrame\"] \n",
    "    ).to_csv(),\n",
    "    \n",
    "    f'{fake_company.Name} - Transactions'\n",
    "\n",
    ")"
   ]
  }
 ],
 "metadata": {
  "kernelspec": {
   "display_name": "Python 3.9.13 ('thunderDome')",
   "language": "python",
   "name": "python3"
  },
  "language_info": {
   "codemirror_mode": {
    "name": "ipython",
    "version": 3
   },
   "file_extension": ".py",
   "mimetype": "text/x-python",
   "name": "python",
   "nbconvert_exporter": "python",
   "pygments_lexer": "ipython3",
   "version": "3.9.13"
  },
  "orig_nbformat": 4,
  "vscode": {
   "interpreter": {
    "hash": "693e5b9c73a7f05cc764e2a39a82e339013c9ca9f4a1690eb595e8f06f5850eb"
   }
  }
 },
 "nbformat": 4,
 "nbformat_minor": 2
}
