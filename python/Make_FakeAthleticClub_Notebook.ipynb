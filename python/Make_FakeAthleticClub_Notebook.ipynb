{
 "cells": [
  {
   "cell_type": "code",
   "execution_count": 1,
   "metadata": {},
   "outputs": [],
   "source": [
    "from Make_FakeAthleticClub import FakeAthleticClub"
   ]
  },
  {
   "cell_type": "code",
   "execution_count": 2,
   "metadata": {},
   "outputs": [],
   "source": [
    "athletic_club = FakeAthleticClub()"
   ]
  },
  {
   "cell_type": "code",
   "execution_count": 3,
   "metadata": {},
   "outputs": [
    {
     "data": {
      "text/plain": [
       "Name: Dna Fitness\n",
       "Category: Athletic Club\n",
       "Domain: Dna-Fitness.net\n",
       "# of Employees: 337\n",
       "# of Customers: 689\n",
       "# of Inventory Items: 510\n",
       "City:  Port Christina\n",
       "State: CO\n",
       "Zip Code: 80542\n",
       "Departments: [\n",
       "   'Management', \n",
       "   'Personal Training', \n",
       "   'Coaching Staff', \n",
       "   'Sales and Merchandise', \n",
       "   'Diet and Nutrition', \n",
       "]\n",
       "Employee Attributes: [\n",
       "   'Employee ID', \n",
       "   'First Name', \n",
       "   'Last Name', \n",
       "   'Email', \n",
       "   'Username', \n",
       "   'Password', \n",
       "   'Date Of Birth', \n",
       "   'SSN', \n",
       "   'Phone Number', \n",
       "   'Address', \n",
       "   'City', \n",
       "   'State', \n",
       "   'Zip Code', \n",
       "   'Hire Date', \n",
       "   'Salary', \n",
       "   'Department', \n",
       "]\n",
       "Customer Attributes: [\n",
       "   'Customer ID', \n",
       "   'Membership Plan', \n",
       "   'Membership Date', \n",
       "   'First Name', \n",
       "   'Last Name', \n",
       "   'Email', \n",
       "   'Username', \n",
       "   'Password', \n",
       "   'Phone Number', \n",
       "   'Address', \n",
       "   'City', \n",
       "   'State', \n",
       "   'Zip Code', \n",
       "   'Card Provider', \n",
       "   'Card Number', \n",
       "   'CVV', \n",
       "   'Expiration Date', \n",
       "]\n",
       "Inventory Attributes: [\n",
       "   'Stock ID', \n",
       "    'Product', \n",
       "    'Year', \n",
       "    'Price', \n",
       "    'Stock Quantity', \n",
       "]"
      ]
     },
     "execution_count": 3,
     "metadata": {},
     "output_type": "execute_result"
    }
   ],
   "source": [
    "athletic_club"
   ]
  },
  {
   "cell_type": "code",
   "execution_count": 4,
   "metadata": {},
   "outputs": [],
   "source": [
    "club_members = athletic_club.MakeFakeCustomers()['As_DataFrame']"
   ]
  },
  {
   "cell_type": "code",
   "execution_count": null,
   "metadata": {},
   "outputs": [],
   "source": [
    "club_members"
   ]
  }
 ],
 "metadata": {
  "kernelspec": {
   "display_name": "Python 3.9.13 ('thunderDome')",
   "language": "python",
   "name": "python3"
  },
  "language_info": {
   "codemirror_mode": {
    "name": "ipython",
    "version": 3
   },
   "file_extension": ".py",
   "mimetype": "text/x-python",
   "name": "python",
   "nbconvert_exporter": "python",
   "pygments_lexer": "ipython3",
   "version": "3.9.13"
  },
  "orig_nbformat": 4,
  "vscode": {
   "interpreter": {
    "hash": "693e5b9c73a7f05cc764e2a39a82e339013c9ca9f4a1690eb595e8f06f5850eb"
   }
  }
 },
 "nbformat": 4,
 "nbformat_minor": 2
}
